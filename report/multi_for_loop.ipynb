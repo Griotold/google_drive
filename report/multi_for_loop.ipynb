{
  "nbformat": 4,
  "nbformat_minor": 0,
  "metadata": {
    "colab": {
      "name": "multi_for_loop.ipynb",
      "provenance": [],
      "authorship_tag": "ABX9TyMa1xi5VE1KHWH0c7HML027",
      "include_colab_link": true
    },
    "kernelspec": {
      "name": "python3",
      "display_name": "Python 3"
    },
    "language_info": {
      "name": "python"
    }
  },
  "cells": [
    {
      "cell_type": "markdown",
      "metadata": {
        "id": "view-in-github",
        "colab_type": "text"
      },
      "source": [
        "<a href=\"https://colab.research.google.com/github/Griotold/google_drive/blob/main/report/multi_for_loop.ipynb\" target=\"_parent\"><img src=\"https://colab.research.google.com/assets/colab-badge.svg\" alt=\"Open In Colab\"/></a>"
      ]
    },
    {
      "cell_type": "markdown",
      "source": [
        "# 이중 for문\n",
        "## 쉬운 예제 : 구구단표\n",
        "### for문으로 2단 만들기"
      ],
      "metadata": {
        "id": "4hUxX2AJCVLe"
      }
    },
    {
      "cell_type": "markdown",
      "source": [
        "출처 : [ Python 기초 ] 반복문1 (for문, 이중 for문)\n",
        "\n",
        "https://velog.io/@hj5730/Python-%EA%B8%B0%EC%B4%88-%EB%B0%98%EB%B3%B5%EB%AC%B81-for%EB%AC%B8-%EC%9D%B4%EC%A4%91-for%EB%AC%B8"
      ],
      "metadata": {
        "id": "rlm3scXGc2SN"
      }
    },
    {
      "cell_type": "code",
      "source": [
        "a = 2\n",
        "\n",
        "for b in range(1, 10):\n",
        "  c = a * b\n",
        "  print('%d X %d = %d' % (a, b, c))"
      ],
      "metadata": {
        "id": "Qg6ybiE1t7Qc",
        "colab": {
          "base_uri": "https://localhost:8080/"
        },
        "outputId": "f4bd392c-7db1-4911-b716-23902d065bf9"
      },
      "execution_count": null,
      "outputs": [
        {
          "output_type": "stream",
          "name": "stdout",
          "text": [
            "2 X 1 = 2\n",
            "2 X 2 = 4\n",
            "2 X 3 = 6\n",
            "2 X 4 = 8\n",
            "2 X 5 = 10\n",
            "2 X 6 = 12\n",
            "2 X 7 = 14\n",
            "2 X 8 = 16\n",
            "2 X 9 = 18\n"
          ]
        }
      ]
    },
    {
      "cell_type": "markdown",
      "source": [
        "### 이중 for문으로 전체 구구단표 만들기"
      ],
      "metadata": {
        "id": "vICDrt0VCweT"
      }
    },
    {
      "cell_type": "code",
      "source": [
        "print('-' * 50)\n",
        "\n",
        "for a in range(2, 10):\n",
        "  for b in range(1, 10):\n",
        "    c = a * b\n",
        "    print('%d x %d = %d' % (a, b, c))\n",
        "\n",
        "  print('-' * 50)"
      ],
      "metadata": {
        "colab": {
          "base_uri": "https://localhost:8080/"
        },
        "id": "4ogTV3qAC4Pv",
        "outputId": "1b245f08-4b10-418f-f7a4-485bb87a13b2"
      },
      "execution_count": null,
      "outputs": [
        {
          "output_type": "stream",
          "name": "stdout",
          "text": [
            "--------------------------------------------------\n",
            "2 x 1 = 2\n",
            "2 x 2 = 4\n",
            "2 x 3 = 6\n",
            "2 x 4 = 8\n",
            "2 x 5 = 10\n",
            "2 x 6 = 12\n",
            "2 x 7 = 14\n",
            "2 x 8 = 16\n",
            "2 x 9 = 18\n",
            "--------------------------------------------------\n",
            "3 x 1 = 3\n",
            "3 x 2 = 6\n",
            "3 x 3 = 9\n",
            "3 x 4 = 12\n",
            "3 x 5 = 15\n",
            "3 x 6 = 18\n",
            "3 x 7 = 21\n",
            "3 x 8 = 24\n",
            "3 x 9 = 27\n",
            "--------------------------------------------------\n",
            "4 x 1 = 4\n",
            "4 x 2 = 8\n",
            "4 x 3 = 12\n",
            "4 x 4 = 16\n",
            "4 x 5 = 20\n",
            "4 x 6 = 24\n",
            "4 x 7 = 28\n",
            "4 x 8 = 32\n",
            "4 x 9 = 36\n",
            "--------------------------------------------------\n",
            "5 x 1 = 5\n",
            "5 x 2 = 10\n",
            "5 x 3 = 15\n",
            "5 x 4 = 20\n",
            "5 x 5 = 25\n",
            "5 x 6 = 30\n",
            "5 x 7 = 35\n",
            "5 x 8 = 40\n",
            "5 x 9 = 45\n",
            "--------------------------------------------------\n",
            "6 x 1 = 6\n",
            "6 x 2 = 12\n",
            "6 x 3 = 18\n",
            "6 x 4 = 24\n",
            "6 x 5 = 30\n",
            "6 x 6 = 36\n",
            "6 x 7 = 42\n",
            "6 x 8 = 48\n",
            "6 x 9 = 54\n",
            "--------------------------------------------------\n",
            "7 x 1 = 7\n",
            "7 x 2 = 14\n",
            "7 x 3 = 21\n",
            "7 x 4 = 28\n",
            "7 x 5 = 35\n",
            "7 x 6 = 42\n",
            "7 x 7 = 49\n",
            "7 x 8 = 56\n",
            "7 x 9 = 63\n",
            "--------------------------------------------------\n",
            "8 x 1 = 8\n",
            "8 x 2 = 16\n",
            "8 x 3 = 24\n",
            "8 x 4 = 32\n",
            "8 x 5 = 40\n",
            "8 x 6 = 48\n",
            "8 x 7 = 56\n",
            "8 x 8 = 64\n",
            "8 x 9 = 72\n",
            "--------------------------------------------------\n",
            "9 x 1 = 9\n",
            "9 x 2 = 18\n",
            "9 x 3 = 27\n",
            "9 x 4 = 36\n",
            "9 x 5 = 45\n",
            "9 x 6 = 54\n",
            "9 x 7 = 63\n",
            "9 x 8 = 72\n",
            "9 x 9 = 81\n",
            "--------------------------------------------------\n"
          ]
        }
      ]
    },
    {
      "cell_type": "markdown",
      "source": [
        "## 다른 예제\n",
        "https://wikidocs.net/104141\n",
        "- end=\" \" -> 한줄로 표현해주기 위한 것이다."
      ],
      "metadata": {
        "id": "6qlJfiTeDqTJ"
      }
    },
    {
      "cell_type": "code",
      "source": [
        "for i in range(10):\n",
        "  for j in range(1, 11):\n",
        "    print(j, end=\" \")\n",
        "  print()"
      ],
      "metadata": {
        "colab": {
          "base_uri": "https://localhost:8080/"
        },
        "id": "lZhTpZmcEjX9",
        "outputId": "6dd21b04-1651-4c67-c5fa-c4bd34dede45"
      },
      "execution_count": null,
      "outputs": [
        {
          "output_type": "stream",
          "name": "stdout",
          "text": [
            "1 2 3 4 5 6 7 8 9 10 \n",
            "1 2 3 4 5 6 7 8 9 10 \n",
            "1 2 3 4 5 6 7 8 9 10 \n",
            "1 2 3 4 5 6 7 8 9 10 \n",
            "1 2 3 4 5 6 7 8 9 10 \n",
            "1 2 3 4 5 6 7 8 9 10 \n",
            "1 2 3 4 5 6 7 8 9 10 \n",
            "1 2 3 4 5 6 7 8 9 10 \n",
            "1 2 3 4 5 6 7 8 9 10 \n",
            "1 2 3 4 5 6 7 8 9 10 \n"
          ]
        }
      ]
    },
    {
      "cell_type": "code",
      "source": [
        "for i in range(10):\n",
        "  for j in range(1, 11):\n",
        "    print(j, end=\" \")\n",
        "  print(\"->>>>\", i)"
      ],
      "metadata": {
        "colab": {
          "base_uri": "https://localhost:8080/"
        },
        "id": "kbNCTX4TDuIj",
        "outputId": "87225f33-b5a5-42ce-8dba-9e806e434117"
      },
      "execution_count": null,
      "outputs": [
        {
          "output_type": "stream",
          "name": "stdout",
          "text": [
            "1 2 3 4 5 6 7 8 9 10 ->>>> 0\n",
            "1 2 3 4 5 6 7 8 9 10 ->>>> 1\n",
            "1 2 3 4 5 6 7 8 9 10 ->>>> 2\n",
            "1 2 3 4 5 6 7 8 9 10 ->>>> 3\n",
            "1 2 3 4 5 6 7 8 9 10 ->>>> 4\n",
            "1 2 3 4 5 6 7 8 9 10 ->>>> 5\n",
            "1 2 3 4 5 6 7 8 9 10 ->>>> 6\n",
            "1 2 3 4 5 6 7 8 9 10 ->>>> 7\n",
            "1 2 3 4 5 6 7 8 9 10 ->>>> 8\n",
            "1 2 3 4 5 6 7 8 9 10 ->>>> 9\n"
          ]
        }
      ]
    },
    {
      "cell_type": "markdown",
      "source": [
        "## 공포의 별찍기 문제\n",
        "- 단서"
      ],
      "metadata": {
        "id": "q9VSDPLyEqni"
      }
    },
    {
      "cell_type": "code",
      "source": [
        "for i in range(1, 11):\n",
        "  for j in range(1, i+1):\n",
        "    print('*', end=\"\")\n",
        "  print()"
      ],
      "metadata": {
        "colab": {
          "base_uri": "https://localhost:8080/"
        },
        "id": "zVyzhyJhEyMa",
        "outputId": "6a2bc722-9377-4679-a515-55ddb3047ffc"
      },
      "execution_count": null,
      "outputs": [
        {
          "output_type": "stream",
          "name": "stdout",
          "text": [
            "*\n",
            "**\n",
            "***\n",
            "****\n",
            "*****\n",
            "******\n",
            "*******\n",
            "********\n",
            "*********\n",
            "**********\n"
          ]
        }
      ]
    },
    {
      "cell_type": "markdown",
      "source": [
        "### 실습1\n",
        "- 위의 별을 좌우반전으로 찍어보자."
      ],
      "metadata": {
        "id": "1Oi6VG2NFPyH"
      }
    },
    {
      "cell_type": "code",
      "source": [
        "for i in range(10):\n",
        "  for j in range(1, i+1):\n",
        "    print(\" \" * i + '*', end=\"\")\n",
        "  print()"
      ],
      "metadata": {
        "colab": {
          "base_uri": "https://localhost:8080/"
        },
        "id": "fRXpQiiAFSgX",
        "outputId": "c225ea2b-705a-416b-c168-ae04a8c9f3bc"
      },
      "execution_count": null,
      "outputs": [
        {
          "output_type": "stream",
          "name": "stdout",
          "text": [
            "\n",
            " *\n",
            "  *  *\n",
            "   *   *   *\n",
            "    *    *    *    *\n",
            "     *     *     *     *     *\n",
            "      *      *      *      *      *      *\n",
            "       *       *       *       *       *       *       *\n",
            "        *        *        *        *        *        *        *        *\n",
            "         *         *         *         *         *         *         *         *         *\n"
          ]
        }
      ]
    },
    {
      "cell_type": "markdown",
      "source": [
        "- 원하는 답이 아니다.."
      ],
      "metadata": {
        "id": "N5oLyG2eWlzM"
      }
    },
    {
      "cell_type": "code",
      "source": [
        "for i in range(10):\n",
        "  for j in range(1, i+1):\n",
        "    print(\" \" * (10-i) + '*', end=\"\")\n",
        "  print()"
      ],
      "metadata": {
        "colab": {
          "base_uri": "https://localhost:8080/"
        },
        "id": "viu2y_w_Wnnh",
        "outputId": "555a7c98-72c6-4aed-a64d-77762d029a70"
      },
      "execution_count": null,
      "outputs": [
        {
          "output_type": "stream",
          "name": "stdout",
          "text": [
            "\n",
            "         *\n",
            "        *        *\n",
            "       *       *       *\n",
            "      *      *      *      *\n",
            "     *     *     *     *     *\n",
            "    *    *    *    *    *    *\n",
            "   *   *   *   *   *   *   *\n",
            "  *  *  *  *  *  *  *  *\n",
            " * * * * * * * * *\n"
          ]
        }
      ]
    },
    {
      "cell_type": "markdown",
      "source": [
        "- 막 이상하게 나온다.."
      ],
      "metadata": {
        "id": "B-168JZmW2jg"
      }
    },
    {
      "cell_type": "code",
      "source": [
        "for i in range(10):\n",
        "  for j in range(1, i+1):\n",
        "    print(\" \" * (9-i) + '*', end=\"\")\n",
        "  print()"
      ],
      "metadata": {
        "colab": {
          "base_uri": "https://localhost:8080/"
        },
        "id": "Kf5nRHV_W-Ym",
        "outputId": "b32b6cdd-554e-4ef4-b68d-79f4bc79d90c"
      },
      "execution_count": null,
      "outputs": [
        {
          "output_type": "stream",
          "name": "stdout",
          "text": [
            "\n",
            "        *\n",
            "       *       *\n",
            "      *      *      *\n",
            "     *     *     *     *\n",
            "    *    *    *    *    *\n",
            "   *   *   *   *   *   *\n",
            "  *  *  *  *  *  *  *\n",
            " * * * * * * * *\n",
            "*********\n"
          ]
        }
      ]
    },
    {
      "cell_type": "markdown",
      "source": [
        "## 강의\n",
        "- 바로 for문부터 들어가지 마라\n",
        "- 한 줄씩 쳐보고 패턴을 파악해라"
      ],
      "metadata": {
        "id": "3hqXGBreUxF0"
      }
    },
    {
      "cell_type": "code",
      "source": [
        "print(\" \" * 9, \"*\" * 1)\n",
        "print(\" \" * 8, \"*\" * 2)\n",
        "print(\" \" * 7, \"*\" * 3)"
      ],
      "metadata": {
        "colab": {
          "base_uri": "https://localhost:8080/"
        },
        "id": "tLyqWyhaX5RF",
        "outputId": "f9172b4d-af84-4b21-d5a4-c2defa362bae"
      },
      "execution_count": null,
      "outputs": [
        {
          "output_type": "stream",
          "name": "stdout",
          "text": [
            "          *\n",
            "         **\n",
            "        ***\n"
          ]
        }
      ]
    },
    {
      "cell_type": "code",
      "source": [
        "for i in range(10):\n",
        "  for j in range(1, i+1):\n",
        "    print(\" \" * (9-i) + \"*\" * j, end=\"\")\n",
        "  print()"
      ],
      "metadata": {
        "colab": {
          "base_uri": "https://localhost:8080/"
        },
        "id": "RY2NMwNbYcCD",
        "outputId": "37e9f6d5-5ea7-46f4-d64a-85135fc38def"
      },
      "execution_count": null,
      "outputs": [
        {
          "output_type": "stream",
          "name": "stdout",
          "text": [
            "\n",
            "        *\n",
            "       *       **\n",
            "      *      **      ***\n",
            "     *     **     ***     ****\n",
            "    *    **    ***    ****    *****\n",
            "   *   **   ***   ****   *****   ******\n",
            "  *  **  ***  ****  *****  ******  *******\n",
            " * ** *** **** ***** ****** ******* ********\n",
            "*********************************************\n"
          ]
        }
      ]
    },
    {
      "cell_type": "markdown",
      "source": [
        "- 이상해졌는데?"
      ],
      "metadata": {
        "id": "12Fv-kgUaa24"
      }
    },
    {
      "cell_type": "code",
      "source": [
        "for i in range(10):\n",
        "  for j in range(1, i+1):\n",
        "    print(\" \" * (10-j), \"*\" * j)\n",
        "  print()"
      ],
      "metadata": {
        "colab": {
          "base_uri": "https://localhost:8080/"
        },
        "id": "n_Pg0yIYZWhH",
        "outputId": "6e41bd37-2e4b-4be4-ed0a-09021bfb4030"
      },
      "execution_count": null,
      "outputs": [
        {
          "output_type": "stream",
          "name": "stdout",
          "text": [
            "\n",
            "          *\n",
            "\n",
            "          *\n",
            "         **\n",
            "\n",
            "          *\n",
            "         **\n",
            "        ***\n",
            "\n",
            "          *\n",
            "         **\n",
            "        ***\n",
            "       ****\n",
            "\n",
            "          *\n",
            "         **\n",
            "        ***\n",
            "       ****\n",
            "      *****\n",
            "\n",
            "          *\n",
            "         **\n",
            "        ***\n",
            "       ****\n",
            "      *****\n",
            "     ******\n",
            "\n",
            "          *\n",
            "         **\n",
            "        ***\n",
            "       ****\n",
            "      *****\n",
            "     ******\n",
            "    *******\n",
            "\n",
            "          *\n",
            "         **\n",
            "        ***\n",
            "       ****\n",
            "      *****\n",
            "     ******\n",
            "    *******\n",
            "   ********\n",
            "\n",
            "          *\n",
            "         **\n",
            "        ***\n",
            "       ****\n",
            "      *****\n",
            "     ******\n",
            "    *******\n",
            "   ********\n",
            "  *********\n",
            "\n"
          ]
        }
      ]
    },
    {
      "cell_type": "markdown",
      "source": [
        "- 어? 다왔는데?"
      ],
      "metadata": {
        "id": "QNV2PTxgZ_gj"
      }
    },
    {
      "cell_type": "code",
      "source": [
        "for j in range(1, 11):\n",
        "  print(\" \" * (10-j), \"*\" * j)\n",
        "  "
      ],
      "metadata": {
        "colab": {
          "base_uri": "https://localhost:8080/"
        },
        "id": "KW1hQ1kkaBje",
        "outputId": "2f8126e5-6f39-4bea-b831-524db4e71bd5"
      },
      "execution_count": null,
      "outputs": [
        {
          "output_type": "stream",
          "name": "stdout",
          "text": [
            "          *\n",
            "         **\n",
            "        ***\n",
            "       ****\n",
            "      *****\n",
            "     ******\n",
            "    *******\n",
            "   ********\n",
            "  *********\n",
            " **********\n"
          ]
        }
      ]
    },
    {
      "cell_type": "markdown",
      "source": [
        "와 결국해냈당. 6번 시도후 완성했다."
      ],
      "metadata": {
        "id": "6p2yh7kzaeYx"
      }
    }
  ]
}