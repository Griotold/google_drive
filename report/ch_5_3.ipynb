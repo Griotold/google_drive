{
  "nbformat": 4,
  "nbformat_minor": 0,
  "metadata": {
    "colab": {
      "name": "ch_5_3.ipynb",
      "provenance": [],
      "authorship_tag": "ABX9TyP5/GRlfx7ouG9QZbUkmaTk",
      "include_colab_link": true
    },
    "kernelspec": {
      "name": "python3",
      "display_name": "Python 3"
    },
    "language_info": {
      "name": "python"
    }
  },
  "cells": [
    {
      "cell_type": "markdown",
      "metadata": {
        "id": "view-in-github",
        "colab_type": "text"
      },
      "source": [
        "<a href=\"https://colab.research.google.com/github/Griotold/google_drive/blob/main/report/ch_5_3.ipynb\" target=\"_parent\"><img src=\"https://colab.research.google.com/assets/colab-badge.svg\" alt=\"Open In Colab\"/></a>"
      ]
    },
    {
      "cell_type": "markdown",
      "source": [
        "# 트리의 앙상블\n",
        "- 앙상블 학습은 더 좋은 예측 결과를 만들기 위해 여러 개의 모델을 훈련하는 머신러닝 알고리즘을 말한다.\n",
        "- 랜덤 포레스트는 대표적인 결정 트리 기반의 앙상블 학습 방법이다.\n",
        "- 엑스트라 트리는 \n",
        "- 그레이디언트 부스팅은"
      ],
      "metadata": {
        "id": "Z6um-eCjmNgB"
      }
    },
    {
      "cell_type": "markdown",
      "source": [
        "## LightGBM 기억!\n",
        "- GBM --> XGBoost --> LightGBM\n",
        "- 참고 1. 모델개발속도가 빨라졌나?\n",
        "- 참고 2. 모델의 성능이 좋아졌나?\n",
        "- 종합하면 LightGBM이 현존 최강 모델이다.\n",
        "- 더 공부해야할 내용은 TabNet (2019)\n",
        "  + 딥러닝 컨셉을 조금 알아야 한다."
      ],
      "metadata": {
        "id": "5kGs2aU3my9o"
      }
    },
    {
      "cell_type": "markdown",
      "source": [
        "## 랜덤 포레스트(Random Forest)\n",
        "- 의사 결정 트리 나무를 500개 심어서 숲을 만드는 것을 말한다.\n",
        "- 최종적인 결정은 다수결 방식\n",
        "  + 나무-1 : 양성\n",
        "  + 나무-2 : 음성\n",
        "  + 나무-3 : 양성\n",
        "  ...\n",
        "  + 나무-500 : 양성"
      ],
      "metadata": {
        "id": "vvWCsn47n-Em"
      }
    },
    {
      "cell_type": "code",
      "source": [
        "import numpy as np\n",
        "import pandas as pd\n",
        "from sklearn.model_selection import train_test_split\n",
        "\n",
        "wine = pd.read_csv('https://bit.ly/wine_csv_data')\n",
        "\n",
        "data = wine[['alcohol', 'sugar', 'pH']].to_numpy()\n",
        "target = wine['class'].to_numpy()\n",
        "\n",
        "train_input, test_input, train_target, test_target = train_test_split(data, \n",
        "                                                                      target, \n",
        "                                                                      test_size=0.2, \n",
        "                                                                      random_state=42)"
      ],
      "metadata": {
        "id": "rbC9YsJqo65Q"
      },
      "execution_count": null,
      "outputs": []
    },
    {
      "cell_type": "code",
      "source": [
        "from sklearn.model_selection import cross_validate\n",
        "from sklearn.ensemble import RandomForestClassifier\n",
        "\n",
        "rf = RandomForestClassifier(n_jobs=-1, random_state=42)"
      ],
      "metadata": {
        "id": "UPiMvi2JpObu"
      },
      "execution_count": null,
      "outputs": []
    },
    {
      "cell_type": "code",
      "source": [
        "scores = cross_validate(rf, train_input, train_target, return_train_score=True, n_jobs=-1)\n",
        "\n",
        "print(np.mean(scores['train_score']), np.mean(scores['test_score']))"
      ],
      "metadata": {
        "colab": {
          "base_uri": "https://localhost:8080/"
        },
        "id": "OCA4jwYVpmaE",
        "outputId": "d97d942f-6569-4e14-fb63-be66547cde21"
      },
      "execution_count": null,
      "outputs": [
        {
          "output_type": "stream",
          "name": "stdout",
          "text": [
            "0.9973541965122431 0.8905151032797809\n"
          ]
        }
      ]
    },
    {
      "cell_type": "code",
      "source": [
        "rf.fit(train_input, train_target)\n",
        "print(rf.feature_importances_)"
      ],
      "metadata": {
        "colab": {
          "base_uri": "https://localhost:8080/"
        },
        "id": "jURBXUXkqiYo",
        "outputId": "1845b9da-69fa-46e6-f7a9-a056888f969b"
      },
      "execution_count": null,
      "outputs": [
        {
          "output_type": "stream",
          "name": "stdout",
          "text": [
            "[0.23167441 0.50039841 0.26792718]\n"
          ]
        }
      ]
    },
    {
      "cell_type": "code",
      "source": [
        "rf = RandomForestClassifier(oob_score=True, n_jobs=-1, random_state=42)\n",
        "\n",
        "rf.fit(train_input, train_target)\n",
        "print(rf.oob_score_)"
      ],
      "metadata": {
        "colab": {
          "base_uri": "https://localhost:8080/"
        },
        "id": "ma4ANQfDqkS4",
        "outputId": "8d344b8d-6a36-40cc-9e0b-ab3c9a24facb"
      },
      "execution_count": null,
      "outputs": [
        {
          "output_type": "stream",
          "name": "stdout",
          "text": [
            "0.8934000384837406\n"
          ]
        }
      ]
    },
    {
      "cell_type": "markdown",
      "source": [
        "## 엑스트라 트리"
      ],
      "metadata": {
        "id": "LgwuDMtJq6us"
      }
    },
    {
      "cell_type": "markdown",
      "source": [
        "## 그레이디언트 부스팅(gradient boosting)\n",
        "- 이전 트리의 오차를 보완하는 방식으로 사용.\n",
        "- 깊이가 얕은 트리를 사용.\n",
        "- 학습률 매개변수로 속도를 조절.\n",
        "- 단점 : 속도가 느림."
      ],
      "metadata": {
        "id": "oKc51sXFq8Ya"
      }
    },
    {
      "cell_type": "code",
      "source": [
        "from sklearn.ensemble import GradientBoostingClassifier\n",
        "gb = GradientBoostingClassifier(random_state = 42)\n",
        "scores = cross_validate(gb, train_input, train_target,\n",
        "                        return_train_score = True, n_jobs=-1)\n",
        "print(np.mean(scores['train_score']), np.mean(scores['test_score']))"
      ],
      "metadata": {
        "colab": {
          "base_uri": "https://localhost:8080/"
        },
        "id": "daKfHgH8s22i",
        "outputId": "7ecd95c8-ca30-4251-c7e9-9f44d2248572"
      },
      "execution_count": null,
      "outputs": [
        {
          "output_type": "stream",
          "name": "stdout",
          "text": [
            "0.8881086892152563 0.8720430147331015\n"
          ]
        }
      ]
    },
    {
      "cell_type": "code",
      "source": [
        "gb = GradientBoostingClassifier(n_estimators=500, learning_rate=0.2, random_state=42)\n",
        "scores = cross_validate(gb, train_input, train_target, return_train_score=True, n_jobs=-1)\n",
        "\n",
        "print(np.mean(scores['train_score']), np.mean(scores['test_score']))"
      ],
      "metadata": {
        "colab": {
          "base_uri": "https://localhost:8080/"
        },
        "id": "VMcyokcotcwQ",
        "outputId": "47abca7d-06e7-4b3f-862c-f281444241c6"
      },
      "execution_count": null,
      "outputs": [
        {
          "output_type": "stream",
          "name": "stdout",
          "text": [
            "0.9464595437171814 0.8780082549788999\n"
          ]
        }
      ]
    },
    {
      "cell_type": "code",
      "source": [
        "gb = GradientBoostingClassifier(n_estimators=1000, learning_rate=0.2, random_state=42)\n",
        "scores = cross_validate(gb, train_input, train_target, return_train_score=True, n_jobs=-1)\n",
        "\n",
        "print(np.mean(scores['train_score']), np.mean(scores['test_score']))"
      ],
      "metadata": {
        "colab": {
          "base_uri": "https://localhost:8080/"
        },
        "id": "vod-cdynthUk",
        "outputId": "f986b1f3-d431-4854-bd44-602dcd8e9f14"
      },
      "execution_count": null,
      "outputs": [
        {
          "output_type": "stream",
          "name": "stdout",
          "text": [
            "0.9695497652678313 0.8799315169911898\n"
          ]
        }
      ]
    }
  ]
}