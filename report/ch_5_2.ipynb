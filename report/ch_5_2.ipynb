{
  "nbformat": 4,
  "nbformat_minor": 0,
  "metadata": {
    "colab": {
      "name": "ch_5_2.ipynb",
      "provenance": [],
      "authorship_tag": "ABX9TyOdUqG17D6Ub0Cy3AfEZvQU",
      "include_colab_link": true
    },
    "kernelspec": {
      "name": "python3",
      "display_name": "Python 3"
    },
    "language_info": {
      "name": "python"
    }
  },
  "cells": [
    {
      "cell_type": "markdown",
      "metadata": {
        "id": "view-in-github",
        "colab_type": "text"
      },
      "source": [
        "<a href=\"https://colab.research.google.com/github/Griotold/google_drive/blob/main/report/ch_5_2.ipynb\" target=\"_parent\"><img src=\"https://colab.research.google.com/assets/colab-badge.svg\" alt=\"Open In Colab\"/></a>"
      ]
    },
    {
      "cell_type": "markdown",
      "source": [
        "# 교차 검증과 그리드 서치\n",
        "- 키워드 : 하이퍼 파라미터 (그리드서치 vs 랜덤서치)\n",
        "- 데이터가 작을 때, 주로 사용\n",
        "- 하이퍼파라미터\n",
        "  + max_depth = 3, 정확도가 84%\n",
        "  + 4는 안될까? 5는?\n",
        "- 결론\n",
        "  + 모르면 디폴트만 쓰자.\n",
        "  + 가성비 (시간 대비 성능 보장 안됨)"
      ],
      "metadata": {
        "id": "ZQKCcCDNMvAH"
      }
    },
    {
      "cell_type": "markdown",
      "source": [
        "## 검증 세트\n",
        "- 테스트 세트로 일반화 성능을 올바르게 예측하려면 가능한 한 테스트 세트를 사용하지 말아야 한다.\n",
        "- 테스트 세트는 1회성이다. 마지막에 딱 한 번 사용한다.\n",
        "- 훈련 데이터를 훈련 데이터와 검증 데이터(validation set)로 재분할\n",
        "- 훈련 세트에서 모델을 훈련하고 검증 세트로 모델을 평가한다."
      ],
      "metadata": {
        "id": "IQGhGWpuOWJ6"
      }
    },
    {
      "cell_type": "markdown",
      "source": [
        "## 현실\n",
        "- 테스트 데이터가 별도로 존재하지 않는다.\n",
        "- 전체 데이터 = 훈련 (6) : 검증 (2) : 테스트 (2)\n",
        "  + 테스트 데이터는 모르는 데이터로 생각해야 한다."
      ],
      "metadata": {
        "id": "KzwvsswcO3JF"
      }
    },
    {
      "cell_type": "markdown",
      "source": [
        "## 데이터 불러오기"
      ],
      "metadata": {
        "id": "4IzVkFCZhzl6"
      }
    },
    {
      "cell_type": "code",
      "source": [
        "import pandas as pd\n",
        "wine = pd.read_csv('https://bit.ly/wine_csv_data')\n",
        "\n",
        "# class 열을 타깃으로, 나머지 열을 특성 배열으로\n",
        "data = wine[['alcohol', 'sugar', 'pH']].to_numpy()\n",
        "target = wine['class'].to_numpy()"
      ],
      "metadata": {
        "id": "JyFvRAlrQFRS"
      },
      "execution_count": null,
      "outputs": []
    },
    {
      "cell_type": "markdown",
      "source": [
        "## 훈련 세트와 테스트 세트로 분리"
      ],
      "metadata": {
        "id": "atoZJ8hbh-cp"
      }
    },
    {
      "cell_type": "code",
      "source": [
        "from sklearn.model_selection import train_test_split\n",
        "\n",
        "train_input, test_input, train_target, test_target = train_test_split(\n",
        "    data, target, test_size = 0.2, random_state = 42)"
      ],
      "metadata": {
        "id": "pqsuMSEDQcon"
      },
      "execution_count": null,
      "outputs": []
    },
    {
      "cell_type": "markdown",
      "source": [
        "## 훈련 세트를 다시 훈련 세트와 검증 세트로 분리\n",
        "- sub_input과 sub_target이 진짜 훈련 세트\n",
        "- val_input과 val_target이 검증 세트 \n",
        "- 여기서도 test_size 매개변수를 0.2로 지정하여 train_input의 약 20%를 val_input으로 만든다."
      ],
      "metadata": {
        "id": "9mav3_3SiGoF"
      }
    },
    {
      "cell_type": "code",
      "source": [
        "sub_input, val_input, sub_target, val_target = train_test_split(\n",
        "    train_input, train_target, test_size = 0.2, random_state = 42\n",
        ")"
      ],
      "metadata": {
        "id": "K6jKEuFXQtiu"
      },
      "execution_count": null,
      "outputs": []
    },
    {
      "cell_type": "markdown",
      "source": [
        "- 단순히 train_test_split() 함수를 2번 적용해준 것 뿐이다."
      ],
      "metadata": {
        "id": "N-t41GF2v8PJ"
      }
    },
    {
      "cell_type": "code",
      "source": [
        "sub_input.shape, val_input.shape, test_input.shape"
      ],
      "metadata": {
        "colab": {
          "base_uri": "https://localhost:8080/"
        },
        "id": "MlSmmLI-Q8N4",
        "outputId": "9a765fb1-531b-4727-d756-1ee0327de5f1"
      },
      "execution_count": null,
      "outputs": [
        {
          "output_type": "execute_result",
          "data": {
            "text/plain": [
              "((4157, 3), (1040, 3), (1300, 3))"
            ]
          },
          "metadata": {},
          "execution_count": 8
        }
      ]
    },
    {
      "cell_type": "markdown",
      "source": [
        "## 모델 만든 후 평가\n",
        "- 훈련 세트로 훈련하고 검증 세트로 평가"
      ],
      "metadata": {
        "id": "r1rn9X4EREtZ"
      }
    },
    {
      "cell_type": "code",
      "source": [
        "from sklearn.tree import DecisionTreeClassifier\n",
        "dt = DecisionTreeClassifier(random_state = 42)\n",
        "dt.fit(sub_input, sub_target)\n",
        "print(dt.score(sub_input, sub_target))\n",
        "print(dt.score(val_input, val_target))"
      ],
      "metadata": {
        "colab": {
          "base_uri": "https://localhost:8080/"
        },
        "id": "F0jE1bBPRHKR",
        "outputId": "d010f0a7-5c27-48b4-a521-bc6ae4d4bc49"
      },
      "execution_count": null,
      "outputs": [
        {
          "output_type": "stream",
          "name": "stdout",
          "text": [
            "0.9971133028626413\n",
            "0.864423076923077\n"
          ]
        }
      ]
    },
    {
      "cell_type": "markdown",
      "source": [
        "- 모델이 과대적합되어 있음을 확인했다.\n",
        "- 매개변수를 바꿔서 더 좋은 모데을 찾아야 한다.\n",
        "- 그 전에 검증 세트에 관해 좀 더 알아야 할 것이 있다."
      ],
      "metadata": {
        "id": "xldCDbewwcaD"
      }
    },
    {
      "cell_type": "markdown",
      "source": [
        "## 교차 검증\n",
        "- 훈련 세트를 여러 폴드(겹)로 나눈 다음 한 폴드가 검증 세트 역할을 하고 나머지 폴드에서는 모델을 훈련한다. 교차 검증은 이런 식으로 모든 폴드에 대해 검증 점수를 얻어 평균하는 방법이다.\n",
        "- 교차 검증의 목적 : 좋은 모델이 만들어 진다!\n",
        "  + 좋은 모델 != 성능이 좋은 모델\n",
        "  + 좋은 모델 = 과대적합이 아닌 모델\n",
        "  + 좋은 모델 = 모형의 오차가 적은 모델\n",
        "  + 좋은 모델 = 안정적인 모델\n",
        "- 교재 245p\n",
        "  + 모델평가 1 : 90% (소요시간 : 1시간)\n",
        "  + 모델평가 2 : 85% (소요시간 : 1시간)\n",
        "  + 모델평가 3 : 80% (소요시간 : 1시간)\n",
        "- 단점 : 시간이 오래 걸린다."
      ],
      "metadata": {
        "id": "a3Sl0Is4P84B"
      }
    },
    {
      "cell_type": "markdown",
      "source": [
        "## 교차 검증 함수\n",
        "- cross_validate() 함수"
      ],
      "metadata": {
        "id": "5WlyDApXTWmy"
      }
    },
    {
      "cell_type": "code",
      "source": [
        "from sklearn.model_selection import cross_validate\n",
        "scores = cross_validate(dt, train_input, train_target)\n",
        "print(scores)\n",
        "# 이 함수는 fit_time, score_time, test_score 키를 가진 딕셔너리를 반환"
      ],
      "metadata": {
        "colab": {
          "base_uri": "https://localhost:8080/"
        },
        "id": "ZMmUP9zzTaUC",
        "outputId": "07486ba8-c0dc-4b3d-9b97-2e0b9ad7b820"
      },
      "execution_count": null,
      "outputs": [
        {
          "output_type": "stream",
          "name": "stdout",
          "text": [
            "{'fit_time': array([0.01153088, 0.01016831, 0.010638  , 0.01059246, 0.01636553]), 'score_time': array([0.00125289, 0.00107217, 0.00128126, 0.00225782, 0.00122762]), 'test_score': array([0.86923077, 0.84615385, 0.87680462, 0.84889317, 0.83541867])}\n"
          ]
        }
      ]
    },
    {
      "cell_type": "markdown",
      "source": [
        "- 처음 2개의 키는 각각 모델을 훈련하는 시간과 검증하는 시간을 의미한다.\n",
        "- 각 키마다 5개의 숫자가 담겨 있다.\n",
        "- 기본적으로 5-폴드(겹) 교차 검증을 수행한다. "
      ],
      "metadata": {
        "id": "0a7zctFE0oRe"
      }
    },
    {
      "cell_type": "markdown",
      "source": [
        "- 교차 검증의 최종 점수는 5개의 점수를 평균하여 얻는다."
      ],
      "metadata": {
        "id": "P_VN0d-wTySe"
      }
    },
    {
      "cell_type": "code",
      "source": [
        "import numpy as np\n",
        "print(np.mean(scores['test_score']))"
      ],
      "metadata": {
        "colab": {
          "base_uri": "https://localhost:8080/"
        },
        "id": "c0sYDCHfT0EN",
        "outputId": "aa1e31af-1576-40ca-a1ca-e4d4afef66fa"
      },
      "execution_count": null,
      "outputs": [
        {
          "output_type": "stream",
          "name": "stdout",
          "text": [
            "0.855300214703487\n"
          ]
        }
      ]
    },
    {
      "cell_type": "code",
      "source": [
        "from sklearn.model_selection import StratifiedKFold\n",
        "scores = cross_validate(dt, train_input, train_target, cv = StratifiedKFold())\n",
        "print(np.mean(scores['test_score']))"
      ],
      "metadata": {
        "colab": {
          "base_uri": "https://localhost:8080/"
        },
        "id": "7f1t37NlT8xV",
        "outputId": "e23a6b32-936a-483d-82bb-233fd080b44e"
      },
      "execution_count": null,
      "outputs": [
        {
          "output_type": "stream",
          "name": "stdout",
          "text": [
            "0.855300214703487\n"
          ]
        }
      ]
    },
    {
      "cell_type": "markdown",
      "source": [
        "- 주의할 점은 cross_validate() 훈련 세트를 섞어 폴드를 나누지 않는다. 앞서 train_test_split()으로 전체 데이터를 섞어줬기 때문이다.\n",
        "- 하지만 또 섞어주고 싶다면, 분할기(splitter)를 사용한다.\n",
        "- 만약 훈련 세트를 섞은 후 10-폴드 교차 검증을 수행하려면 아래와 같이 코드를 작성한다."
      ],
      "metadata": {
        "id": "EOXzbgxi1KxW"
      }
    },
    {
      "cell_type": "code",
      "source": [
        "splitter = StratifiedKFold(n_splits = 10, shuffle = True, random_state = 42)\n",
        "scores = cross_validate(dt, train_input, train_target, cv = splitter)\n",
        "print(np.mean(scores['test_score']))"
      ],
      "metadata": {
        "colab": {
          "base_uri": "https://localhost:8080/"
        },
        "id": "KsGCI8BaUNyV",
        "outputId": "d93959f8-b288-47e5-d86a-8f3a464522fb"
      },
      "execution_count": null,
      "outputs": [
        {
          "output_type": "stream",
          "name": "stdout",
          "text": [
            "0.8574181117533719\n"
          ]
        }
      ]
    },
    {
      "cell_type": "markdown",
      "source": [
        "## 하이퍼파라미터 튜닝\n",
        "- 내용만 알고가면 된다. 나중에 쓸일은 없다.\n",
        "- 그리드 서치 vs 랜덤 서치\n",
        "- 하이퍼파라미터를 꼭 하고 싶다면 랜덤 서치를 사용하자.\n",
        "- 자동으로 잡아주는 라이브러리들이 등장하기 시작함.\n",
        "\n",
        "### 그리드 서치\n",
        "- 우리가 직접 값의 목록을 넣어줘야 한다.\n",
        "- 쓰지 말자."
      ],
      "metadata": {
        "id": "J2KIUhqlYPuk"
      }
    },
    {
      "cell_type": "markdown",
      "source": [
        "- 어떻게 사용하는지 간단하게 맛보자.\n",
        "- 기본 매개변수를 사용한 결정 트리 모델에서 min_impurity_decrease 매개변수의 최적값을 찾아보자.\n",
        "- 탐색할 매개변수와 탐색할 값의 리스트를 딕셔너리로 만든다."
      ],
      "metadata": {
        "id": "0UN_lTKo31zP"
      }
    },
    {
      "cell_type": "code",
      "source": [
        "from sklearn.model_selection import GridSearchCV\n",
        "params = {'min_impurity_decrease' : [0.0001, 0.0002, 0.0003, 0.0004, 0.0005]}\n",
        "\n",
        "# GridSearchCV 클래스에 탐색 대상 모델(DecisionTreeClassifier)과\n",
        "# params 변수를 전달하여 그리드 서치 객체를 만든다.\n",
        "# n_jobs = -1은 모든 CPU 코어를 사용한다는 의미. 기본값은 1이다.\n",
        "gs = GridSearchCV(DecisionTreeClassifier(random_state = 42), params, n_jobs = -1)\n",
        "\n",
        "# 모델 훈련\n",
        "# 이 메서드를 호출하면 그리드 서치 객체는 결정 트리 모델\n",
        "# 에서 탐색할 매개변수를 바꿔가며 총 5번 실행한다. \n",
        "gs.fit(train_input, train_target)"
      ],
      "metadata": {
        "colab": {
          "base_uri": "https://localhost:8080/"
        },
        "id": "2lVX4H6za5Dc",
        "outputId": "afbdb9a7-702a-4467-d434-983dedb2b225"
      },
      "execution_count": null,
      "outputs": [
        {
          "output_type": "execute_result",
          "data": {
            "text/plain": [
              "GridSearchCV(estimator=DecisionTreeClassifier(random_state=42), n_jobs=-1,\n",
              "             param_grid={'min_impurity_decrease': [0.0001, 0.0002, 0.0003,\n",
              "                                                   0.0004, 0.0005]})"
            ]
          },
          "metadata": {},
          "execution_count": 20
        }
      ]
    },
    {
      "cell_type": "markdown",
      "source": [
        "- GridSearchCV의 cv 매개변수 기본값은 5이다.\n",
        "- 따라서 min_impurity_decrease 값마다 5-폴드 교차 검증을 수행한다.\n",
        "- 결국 5 X 5 = 25개의 모델을 훈련하게 된다."
      ],
      "metadata": {
        "id": "cUyqbFvY47-Z"
      }
    },
    {
      "cell_type": "markdown",
      "source": [
        "- 검증 점수가 가장 높은 모델의 매개변수 조합으로 알아서 다시 모델을 훈련한다.\n",
        "- 이 모델은 gs 객체의 best_estimator_ 속성에 저장되어 있다.\n",
        "- 그리드 서치로 찾은 최적의 매개변수는 best_params_ 속성에 저장되어 있다."
      ],
      "metadata": {
        "id": "4J9KXIW75Xob"
      }
    },
    {
      "cell_type": "code",
      "source": [
        "dt = gs.best_estimator_\n",
        "print(dt.score(train_input, train_target))\n",
        "print(dt)\n",
        "print(gs.best_params_)"
      ],
      "metadata": {
        "colab": {
          "base_uri": "https://localhost:8080/"
        },
        "id": "zhdeK4_EcU5B",
        "outputId": "3475d8f0-60e5-47f2-a64c-8f451e42f6e0"
      },
      "execution_count": null,
      "outputs": [
        {
          "output_type": "stream",
          "name": "stdout",
          "text": [
            "0.9615162593804117\n",
            "DecisionTreeClassifier(min_impurity_decrease=0.0001, random_state=42)\n",
            "{'min_impurity_decrease': 0.0001}\n"
          ]
        }
      ]
    },
    {
      "cell_type": "markdown",
      "source": [
        "- 여기서는 0.0001이 가장 좋은 값으로 선택되었다.\n",
        "- 각 매개변수에서 수행한 교차 검증의 평균 점수는 cv_results_ 속성의 'mean_test_score'키에 저장되어 있다."
      ],
      "metadata": {
        "id": "QdcfqpV_5yTl"
      }
    },
    {
      "cell_type": "code",
      "source": [
        "print(gs.cv_results_['mean_test_score'])"
      ],
      "metadata": {
        "colab": {
          "base_uri": "https://localhost:8080/"
        },
        "id": "ueF8ae1kdZcw",
        "outputId": "467713c9-c311-42ba-937b-f549eb0514b5"
      },
      "execution_count": null,
      "outputs": [
        {
          "output_type": "stream",
          "name": "stdout",
          "text": [
            "[0.86819297 0.86453617 0.86492226 0.86780891 0.86761605]\n"
          ]
        }
      ]
    },
    {
      "cell_type": "markdown",
      "source": [
        "- 첫 번째 값이 가장 큰 것 같다.\n",
        "- 수동으로 고르는 것보다 넘파이 argmax() 함수를 사용하면 가장 큰 값의 인덱스를 뽑을 수 있다."
      ],
      "metadata": {
        "id": "AvcLcgzt6CFr"
      }
    },
    {
      "cell_type": "code",
      "source": [
        "best_index = np.argmax(gs.cv_results_['mean_test_score'])\n",
        "print(gs.cv_results_['params'][best_index])"
      ],
      "metadata": {
        "colab": {
          "base_uri": "https://localhost:8080/"
        },
        "id": "teps_zKW2qNj",
        "outputId": "a58ede9b-5604-4044-ecd4-182fe8f8b33a"
      },
      "execution_count": null,
      "outputs": [
        {
          "output_type": "stream",
          "name": "stdout",
          "text": [
            "{'max_depth': 29, 'min_impurity_decrease': 0.000437615171403628}\n"
          ]
        }
      ]
    },
    {
      "cell_type": "markdown",
      "source": [
        "- 조금 더 복잡한 매개변수 조합을 탐색해보자.\n",
        "- min_impurity_decrease는 노드를 분할하기 위한 불순도 감소 최소량을 지정한다.\n",
        "- max_depth로 트리의 깊이를 지정한다.\n",
        "- min_samples_split으로 노드를 나누기 위한 최소 샘플 수를 지정한다."
      ],
      "metadata": {
        "id": "wFedINIB6SWp"
      }
    },
    {
      "cell_type": "code",
      "source": [
        "params = {'min_impurity_decrease' : np.arange(0.0001, 0.001, 0.0001),\n",
        "          'max_depth': range(5, 20, 1),\n",
        "          'min_samples_split' : range(2, 100, 10)}"
      ],
      "metadata": {
        "id": "n9u7ynzL3BB0"
      },
      "execution_count": null,
      "outputs": []
    },
    {
      "cell_type": "markdown",
      "source": [
        "- 이 매개 변수로 수행할 교차 검증 횟수는 \n",
        "9 X 15 X 10 = 1350개이다.\n",
        "- 기본 5-폴드 교차 검증을 수행하므로 만들어지는 모델의 수는 6,750개나 된다.\n",
        "- 이제 그리드 서치를 실행해보자."
      ],
      "metadata": {
        "id": "DeE4kSbl6spt"
      }
    },
    {
      "cell_type": "code",
      "source": [
        "gs = GridSearchCV(DecisionTreeClassifier(random_state=42), params, n_jobs=-1)\n",
        "gs.fit(train_input, train_target)"
      ],
      "metadata": {
        "colab": {
          "base_uri": "https://localhost:8080/"
        },
        "id": "fnxTSMII3f2Q",
        "outputId": "c5fff1de-ff98-499b-e7c2-167427854c06"
      },
      "execution_count": null,
      "outputs": [
        {
          "output_type": "execute_result",
          "data": {
            "text/plain": [
              "GridSearchCV(estimator=DecisionTreeClassifier(random_state=42), n_jobs=-1,\n",
              "             param_grid={'max_depth': range(5, 20),\n",
              "                         'min_impurity_decrease': array([0.0001, 0.0002, 0.0003, 0.0004, 0.0005, 0.0006, 0.0007, 0.0008,\n",
              "       0.0009]),\n",
              "                         'min_samples_split': range(2, 100, 10)})"
            ]
          },
          "metadata": {},
          "execution_count": 34
        }
      ]
    },
    {
      "cell_type": "markdown",
      "source": [
        "- 최상의 매개변수 조합을 확인하자."
      ],
      "metadata": {
        "id": "tgXp1CSX69Kn"
      }
    },
    {
      "cell_type": "code",
      "source": [
        "print(gs.best_params_)"
      ],
      "metadata": {
        "colab": {
          "base_uri": "https://localhost:8080/"
        },
        "id": "GT1Yq-0u7Eee",
        "outputId": "4982aebc-5bda-4f1f-a1a7-2e7cb6bd6b39"
      },
      "execution_count": null,
      "outputs": [
        {
          "output_type": "stream",
          "name": "stdout",
          "text": [
            "{'max_depth': 14, 'min_impurity_decrease': 0.0004, 'min_samples_split': 12}\n"
          ]
        }
      ]
    },
    {
      "cell_type": "markdown",
      "source": [
        "- 최상의 교차 검증 점수도 확인하자."
      ],
      "metadata": {
        "id": "Fu3XG-mB7JEF"
      }
    },
    {
      "cell_type": "code",
      "source": [
        "print(np.max(gs.cv_results_['mean_test_score']))"
      ],
      "metadata": {
        "colab": {
          "base_uri": "https://localhost:8080/"
        },
        "id": "Xf4HPdDo7NFK",
        "outputId": "4b262941-a2aa-48ef-c9dd-1b493af32af9"
      },
      "execution_count": null,
      "outputs": [
        {
          "output_type": "stream",
          "name": "stdout",
          "text": [
            "0.8683865773302731\n"
          ]
        }
      ]
    },
    {
      "cell_type": "markdown",
      "source": [
        "### 랜덤 서치\n",
        "- 매개변수 값의 목록을 전달하는 것이 아니라 매개변수를 샘플링할 수 있도록 확률 분포 객체를 전달한다.\n",
        "- 싸이파이에서 2개의 확률 분포 클래스를 임포트한다."
      ],
      "metadata": {
        "id": "79k27qZ5d-3L"
      }
    },
    {
      "cell_type": "markdown",
      "source": [
        "### 싸이파이(scipy)\n",
        "- 파이썬의 핵심 과학 라이브러리 중 하나로, 적분, 보간, 선형 대수, 확률 등을 포함한 수치 계산 전용 라이브러리이다."
      ],
      "metadata": {
        "id": "eO8BDxoe7l8o"
      }
    },
    {
      "cell_type": "code",
      "source": [
        "# stats(통계) 서브 패키지\n",
        "# uniform : 균등분포\n",
        "# randint : 임의의 정수\n",
        "# 정리하면, 균등 분포에서 샘플링한다.\n",
        "from scipy.stats import uniform, randint\n",
        "rgen = randint(0, 10)\n",
        "rgen.rvs(10)\n",
        "# 정수값을 추출한다."
      ],
      "metadata": {
        "colab": {
          "base_uri": "https://localhost:8080/"
        },
        "id": "JrCntFHPeSLe",
        "outputId": "541c0943-fca1-437c-8ad7-e0b165b6f062"
      },
      "execution_count": null,
      "outputs": [
        {
          "output_type": "execute_result",
          "data": {
            "text/plain": [
              "array([2, 2, 3, 2, 4, 5, 9, 5, 8, 4])"
            ]
          },
          "metadata": {},
          "execution_count": 27
        }
      ]
    },
    {
      "cell_type": "code",
      "source": [
        "np.unique(rgen.rvs(1000), return_counts = True)"
      ],
      "metadata": {
        "colab": {
          "base_uri": "https://localhost:8080/"
        },
        "id": "Od_YVoEBeejl",
        "outputId": "0bc0d4d5-9069-4d4b-c950-d426b4e07046"
      },
      "execution_count": null,
      "outputs": [
        {
          "output_type": "execute_result",
          "data": {
            "text/plain": [
              "(array([0, 1, 2, 3, 4, 5, 6, 7, 8, 9]),\n",
              " array([ 94,  76, 112,  91, 102, 108, 117,  95,  93, 112]))"
            ]
          },
          "metadata": {},
          "execution_count": 28
        }
      ]
    },
    {
      "cell_type": "markdown",
      "source": [
        "- uniform 클래스의 사용법도 마찬가지."
      ],
      "metadata": {
        "id": "x1VB_9f78bDR"
      }
    },
    {
      "cell_type": "code",
      "source": [
        "ugen = uniform(0, 1)\n",
        "ugen.rvs(10)\n",
        "# 실수값을 추출한다."
      ],
      "metadata": {
        "colab": {
          "base_uri": "https://localhost:8080/"
        },
        "id": "-bd52Bk_8fd0",
        "outputId": "95e20330-bfd3-45fb-8bf9-b7453a687370"
      },
      "execution_count": null,
      "outputs": [
        {
          "output_type": "execute_result",
          "data": {
            "text/plain": [
              "array([0.23763654, 0.30508564, 0.55129513, 0.67400913, 0.63637347,\n",
              "       0.61471641, 0.8167904 , 0.99811336, 0.19127765, 0.04356988])"
            ]
          },
          "metadata": {},
          "execution_count": 37
        }
      ]
    },
    {
      "cell_type": "code",
      "source": [
        "from sklearn.model_selection import RandomizedSearchCV\n",
        "\n",
        "# 탐색할 매개변수의 딕셔너리 만들기\n",
        "# min_samples_leaf 매개변수 : 리프 노드가 되기 위한 최소 샘플의 개수\n",
        "params = {\n",
        "    'min_impurity_decrease' : uniform(0.0001, 0.001),\n",
        "    'max_depth' : randint(20, 50),\n",
        "    'min_samples_split' : randint(2, 25),\n",
        "    'min_samples_leaf' : randint(1, 25),\n",
        "}\n",
        "\n",
        "gs = RandomizedSearchCV(DecisionTreeClassifier(random_state = 42), params,\n",
        "                        n_iter = 100, n_jobs = -1, random_state = 42)\n",
        "gs.fit(train_input, train_target)"
      ],
      "metadata": {
        "colab": {
          "base_uri": "https://localhost:8080/"
        },
        "id": "5IYANpZ7ezu4",
        "outputId": "00ab7651-2bc9-4aef-f7cd-855797613140"
      },
      "execution_count": null,
      "outputs": [
        {
          "output_type": "execute_result",
          "data": {
            "text/plain": [
              "RandomizedSearchCV(estimator=DecisionTreeClassifier(random_state=42),\n",
              "                   n_iter=100, n_jobs=-1,\n",
              "                   param_distributions={'max_depth': <scipy.stats._distn_infrastructure.rv_frozen object at 0x7f17909ce310>,\n",
              "                                        'min_impurity_decrease': <scipy.stats._distn_infrastructure.rv_frozen object at 0x7f17909aa6d0>},\n",
              "                   random_state=42)"
            ]
          },
          "metadata": {},
          "execution_count": 30
        }
      ]
    },
    {
      "cell_type": "markdown",
      "source": [
        "- min_impurity_decrease는 0.0001에서 0.001 사이의 실수값을 샘플링한다.\n",
        "- max_depth는 20에서 50 사이의 정수를 샘플링한다.\n",
        "- min_samples_split은 2에서 25 사이의 정수를 샘플링.\n",
        "- min_samples_leaf는 1에서 25사이의 정수를 샘플링.\n",
        "- 샘플링 횟수는 사이킷런의 랜덤 서치 클래스인 RandomizedSearchCV의 n_iter 매개변수에 지정한다."
      ],
      "metadata": {
        "id": "RvWEwgFO9Rk0"
      }
    },
    {
      "cell_type": "code",
      "source": [
        "from sklearn.model_selection import RandomizedSearchCV\n",
        "gs = RandomizedSearchCV(DecisionTreeClassifier(random_state=42), params,\n",
        "                        n_iter=100, n_jobs=-1,random_state=42)\n",
        "gs.fit(train_input, train_target)"
      ],
      "metadata": {
        "colab": {
          "base_uri": "https://localhost:8080/"
        },
        "id": "iYWvJF1492xh",
        "outputId": "a39961be-22ef-448d-ecad-a8d3df8b4d1e"
      },
      "execution_count": null,
      "outputs": [
        {
          "output_type": "execute_result",
          "data": {
            "text/plain": [
              "RandomizedSearchCV(estimator=DecisionTreeClassifier(random_state=42),\n",
              "                   n_iter=100, n_jobs=-1,\n",
              "                   param_distributions={'max_depth': range(5, 20),\n",
              "                                        'min_impurity_decrease': array([0.0001, 0.0002, 0.0003, 0.0004, 0.0005, 0.0006, 0.0007, 0.0008,\n",
              "       0.0009]),\n",
              "                                        'min_samples_split': range(2, 100, 10)},\n",
              "                   random_state=42)"
            ]
          },
          "metadata": {},
          "execution_count": 38
        }
      ]
    },
    {
      "cell_type": "markdown",
      "source": [
        "- 위 params에 정의된 매개변수 범위에서 총 100번을 샘플링하여 교차 검증을 수행하고 최적의 매개변수 조합을 찾게 된다.\n",
        "- 앞서 그리드 서치보다 훨씬 교차 검증 수를 줄이면서 넓은 영역을 효과적으로 탐색하게 된 것이다.\n",
        "- 최적의 매개변수 조합을 출력해보자."
      ],
      "metadata": {
        "id": "CWalGaTS-Pv4"
      }
    },
    {
      "cell_type": "code",
      "source": [
        "print(gs.best_params_)"
      ],
      "metadata": {
        "colab": {
          "base_uri": "https://localhost:8080/"
        },
        "id": "8ANWM5_o-dd3",
        "outputId": "c588a8ac-40ba-49b0-912e-345c61624d65"
      },
      "execution_count": null,
      "outputs": [
        {
          "output_type": "stream",
          "name": "stdout",
          "text": [
            "{'min_samples_split': 12, 'min_impurity_decrease': 0.0005, 'max_depth': 11}\n"
          ]
        }
      ]
    },
    {
      "cell_type": "markdown",
      "source": [
        "- 최고의 교차 검증 점수도 확인한다."
      ],
      "metadata": {
        "id": "FQEkh8qc-kEO"
      }
    },
    {
      "cell_type": "code",
      "source": [
        "print(np.max(gs.cv_results_['mean_test_score']))"
      ],
      "metadata": {
        "colab": {
          "base_uri": "https://localhost:8080/"
        },
        "id": "6MJFcwqT-nJA",
        "outputId": "e3c8a2fd-ebab-4014-8075-3fe0ecade1d4"
      },
      "execution_count": null,
      "outputs": [
        {
          "output_type": "stream",
          "name": "stdout",
          "text": [
            "0.8681935292811135\n"
          ]
        }
      ]
    },
    {
      "cell_type": "markdown",
      "source": [
        "- 그리드 서치와 마찬가지로 최적의 모델은 이미 전체 훈련세트로 훈련되어 best_estimator_ 속성에 저장되어 있다.\n",
        "- 이 모델을 최종 모델로 결정하고 테스트 성능을 확인하자."
      ],
      "metadata": {
        "id": "z5LRzo8v_Ggy"
      }
    },
    {
      "cell_type": "code",
      "source": [
        "dt = gs.best_estimator_\n",
        "print(dt.score(test_input, test_target))"
      ],
      "metadata": {
        "colab": {
          "base_uri": "https://localhost:8080/"
        },
        "id": "TcJj6aqS_Sc7",
        "outputId": "0f3b528c-fcb4-4485-ca19-f6b535768a21"
      },
      "execution_count": null,
      "outputs": [
        {
          "output_type": "stream",
          "name": "stdout",
          "text": [
            "0.8615384615384616\n"
          ]
        }
      ]
    }
  ]
}