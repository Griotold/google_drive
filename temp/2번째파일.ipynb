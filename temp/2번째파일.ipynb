{
  "nbformat": 4,
  "nbformat_minor": 0,
  "metadata": {
    "colab": {
      "name": "2번째파일.ipynb",
      "provenance": [],
      "authorship_tag": "ABX9TyOdSgGJiL82EYXpI0C/ZH16",
      "include_colab_link": true
    },
    "kernelspec": {
      "name": "python3",
      "display_name": "Python 3"
    },
    "language_info": {
      "name": "python"
    }
  },
  "cells": [
    {
      "cell_type": "markdown",
      "metadata": {
        "id": "view-in-github",
        "colab_type": "text"
      },
      "source": [
        "<a href=\"https://colab.research.google.com/github/Griotold/google_drive/blob/main/temp/2%EB%B2%88%EC%A7%B8%ED%8C%8C%EC%9D%BC.ipynb\" target=\"_parent\"><img src=\"https://colab.research.google.com/assets/colab-badge.svg\" alt=\"Open In Colab\"/></a>"
      ]
    },
    {
      "cell_type": "code",
      "execution_count": null,
      "metadata": {
        "id": "QslyjLiaMIGG"
      },
      "outputs": [],
      "source": [
        "아무거나아무거나"
      ]
    },
    {
      "cell_type": "markdown",
      "source": [
        "아무거나아무거나"
      ],
      "metadata": {
        "id": "N8Y40h8JMSnP"
      }
    }
  ]
}